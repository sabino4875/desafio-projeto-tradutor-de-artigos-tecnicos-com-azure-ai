{
  "nbformat": 4,
  "nbformat_minor": 0,
  "metadata": {
    "colab": {
      "provenance": [],
      "toc_visible": true
    },
    "kernelspec": {
      "name": "python3",
      "display_name": "Python 3"
    },
    "language_info": {
      "name": "python"
    }
  },
  "cells": [
    {
      "cell_type": "code",
      "execution_count": null,
      "metadata": {
        "id": "WeR0b2ZK-vVS"
      },
      "outputs": [],
      "source": [
        "!pip install requests python-docx"
      ]
    },
    {
      "cell_type": "code",
      "source": [
        "import requests\n",
        "import os\n",
        "from docx import Document\n",
        "from google.colab import userdata\n",
        "\n",
        "target_language = 'pt-br'"
      ],
      "metadata": {
        "id": "BUQ6GDeD_Zqr"
      },
      "execution_count": null,
      "outputs": []
    },
    {
      "cell_type": "code",
      "source": [
        "def translate_text(text, target_language):\n",
        "  subscription_key = userdata.get('azureSubscriptionKey')\n",
        "  endpoint = userdata.get('azureEndPoint')\n",
        "  location = userdata.get('azureLocation')\n",
        "  path = '/translate'\n",
        "  constructed_url = endpoint + path\n",
        "  headers = {\n",
        "    'Ocp-Apim-Subscription-Key': subscription_key,\n",
        "    'Ocp-Apim-Subscription-Region': location,\n",
        "    'Content-Type': 'application/json',\n",
        "    'X-ClientTraceId': str(os.urandom(16))\n",
        "  }\n",
        "  body = [{\n",
        "    'text': text\n",
        "  }]\n",
        "  params = {\n",
        "      'api-version': '3.0',\n",
        "      'from': 'en-us',\n",
        "      'to': target_language\n",
        "  }\n",
        "  request = requests.post(constructed_url, params=params, headers=headers, json=body)\n",
        "  response = request.json()\n",
        "  return response[0]['translations'][0]['text']"
      ],
      "metadata": {
        "id": "MX675wL4ClHv"
      },
      "execution_count": null,
      "outputs": []
    },
    {
      "cell_type": "code",
      "source": [
        "def translate_document(path):\n",
        "  document = Document(path)\n",
        "  full_text = []\n",
        "\n",
        "  for paragraph in document.paragraphs:\n",
        "    translated_text = translate_text(paragraph, target_language)\n",
        "    full_text.append(translated_text)\n",
        "\n",
        "  translated_document = Document()\n",
        "  for line in full_text:\n",
        "    print(line)\n",
        "    translated_document.add_paragraph(line)\n",
        "\n",
        "  path_translated = path.replace('.docx', f'_{target_language}.docx')\n",
        "  translated_document.save(path_translated)\n",
        "  return path_translated"
      ],
      "metadata": {
        "id": "bEbkC14xEWs0"
      },
      "execution_count": null,
      "outputs": []
    },
    {
      "cell_type": "code",
      "source": [
        "# Caminho do arquivo do documento\n",
        "path = 'informe o local e o arquivo .docx'\n",
        "\n",
        "# Traduzir o documento para o português do Brasil\n",
        "path_translated = translate_document(path)\n",
        "\n",
        "# Imprimir o caminho do arquivo do documento traduzido\n",
        "print(f'O documento traduzido foi salvo em: {path_translated}')\n"
      ],
      "metadata": {
        "id": "BCsUalaSGk1p"
      },
      "execution_count": null,
      "outputs": []
    }
  ]
}