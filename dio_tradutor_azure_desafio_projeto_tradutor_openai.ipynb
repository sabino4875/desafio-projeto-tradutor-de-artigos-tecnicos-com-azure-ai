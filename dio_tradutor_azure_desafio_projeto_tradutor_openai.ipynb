{
  "nbformat": 4,
  "nbformat_minor": 0,
  "metadata": {
    "colab": {
      "provenance": []
    },
    "kernelspec": {
      "name": "python3",
      "display_name": "Python 3"
    },
    "language_info": {
      "name": "python"
    }
  },
  "cells": [
    {
      "cell_type": "code",
      "execution_count": null,
      "metadata": {
        "id": "LvryLkueG6Z5"
      },
      "outputs": [],
      "source": [
        "!pip install requests beautifulsoup4 openai langchain-openai"
      ]
    },
    {
      "cell_type": "code",
      "source": [
        "import requests\n",
        "from bs4 import BeautifulSoup\n",
        "import openai\n",
        "from langchain.llms import OpenAI\n",
        "from langchain_openai.chat_models.azure import AzureChatOpenAI\n",
        "from google.colab import userdata"
      ],
      "metadata": {
        "id": "JyT24eE3HXt6"
      },
      "execution_count": null,
      "outputs": []
    },
    {
      "cell_type": "code",
      "source": [
        "cliente = AzureChatOpenAI(\n",
        "  azure_endpoint = userdata.get('azureEndPoint'),\n",
        "  api_key = userdata.get('azureSubscriptionKey'),\n",
        "  api_version = userdata.get('apiVersion'),\n",
        "  deployment_name = userdata.get('deploymentName'),\n",
        "  max_retries = 0\n",
        ")"
      ],
      "metadata": {
        "id": "5r5mXJWgHms4"
      },
      "execution_count": null,
      "outputs": []
    },
    {
      "cell_type": "code",
      "source": [
        "def extract_text_from_url(url):\n",
        "  response = requests.get(url)\n",
        "\n",
        "  if response.status_code != 200:\n",
        "    print(f\"Failed to fetch the url. Status code: {response.status_code}\")\n",
        "    return None\n",
        "\n",
        "  soup = BeautifulSoup(response.text, 'html_parser')\n",
        "  for script_or_style in soup(['script', 'style']):\n",
        "    script_or_style.decompose()\n",
        "  text = soup.get_text(separator = ' ')\n",
        "  lines = (line.strip() for line in text.splitlines())\n",
        "  parts = (frase.strip() for line in lines for frase in line.split(\" \"))\n",
        "  text = '\\n'.join(part for part in parts if part)\n",
        "\n",
        "  return text"
      ],
      "metadata": {
        "id": "7IYpQQklHabq"
      },
      "execution_count": null,
      "outputs": []
    },
    {
      "cell_type": "code",
      "source": [
        "def translate_article(text, lang):\n",
        "  messages = [\n",
        "    {\"system\", \"Você atua como um tradutor de textos\"},\n",
        "    {\"user\", f\"Traduza o {text} para o idioma {lang} e responda em markdown\"}\n",
        "  ]\n",
        "\n",
        "  response = client.invoke(messages)\n",
        "  return response.content"
      ],
      "metadata": {
        "id": "z3VXC8TsIYkm"
      },
      "execution_count": null,
      "outputs": []
    },
    {
      "cell_type": "code",
      "source": [
        "url = \"informe a url aqui\"\n",
        "text = extract_text_from_url(url)\n",
        "article = translate_article(text, \"pt-br\")\n",
        "\n",
        "print(article)"
      ],
      "metadata": {
        "id": "X852_krZIjcE"
      },
      "execution_count": null,
      "outputs": []
    }
  ]
}